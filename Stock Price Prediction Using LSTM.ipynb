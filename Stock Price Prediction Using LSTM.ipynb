{
 "cells": [
  {
   "cell_type": "markdown",
   "id": "00b402f2",
   "metadata": {},
   "source": [
    "# Stock Price Prediction"
   ]
  },
  {
   "cell_type": "code",
   "execution_count": 1,
   "id": "17583e17",
   "metadata": {},
   "outputs": [],
   "source": [
    "# Importing libraries \n",
    "import numpy as np \n",
    "import pandas as pd \n",
    "import matplotlib.pyplot as plt \n",
    "import seaborn as sns \n",
    "import warnings\n",
    "warnings.filterwarnings('ignore') \n",
    "from sklearn.metrics import mean_squared_error\n",
    "from sklearn.preprocessing import MinMaxScaler \n",
    "from keras.models import Sequential\n",
    "from keras.layers import Dense, LSTM"
   ]
  },
  {
   "cell_type": "code",
   "execution_count": 2,
   "id": "0310c3d2",
   "metadata": {
    "scrolled": false
   },
   "outputs": [],
   "source": [
    "# Importing dataset\n",
    "dataset = pd.read_csv('Stock_Data.csv') "
   ]
  },
  {
   "cell_type": "code",
   "execution_count": 3,
   "id": "6ebf75ef",
   "metadata": {},
   "outputs": [
    {
     "data": {
      "text/html": [
       "<div>\n",
       "<style scoped>\n",
       "    .dataframe tbody tr th:only-of-type {\n",
       "        vertical-align: middle;\n",
       "    }\n",
       "\n",
       "    .dataframe tbody tr th {\n",
       "        vertical-align: top;\n",
       "    }\n",
       "\n",
       "    .dataframe thead th {\n",
       "        text-align: right;\n",
       "    }\n",
       "</style>\n",
       "<table border=\"1\" class=\"dataframe\">\n",
       "  <thead>\n",
       "    <tr style=\"text-align: right;\">\n",
       "      <th></th>\n",
       "      <th>Date</th>\n",
       "      <th>Open</th>\n",
       "      <th>High</th>\n",
       "      <th>Low</th>\n",
       "      <th>Close</th>\n",
       "      <th>Volume</th>\n",
       "    </tr>\n",
       "  </thead>\n",
       "  <tbody>\n",
       "    <tr>\n",
       "      <th>0</th>\n",
       "      <td>12/19/2016</td>\n",
       "      <td>790.219971</td>\n",
       "      <td>797.659973</td>\n",
       "      <td>786.270020</td>\n",
       "      <td>794.200012</td>\n",
       "      <td>1225900</td>\n",
       "    </tr>\n",
       "    <tr>\n",
       "      <th>1</th>\n",
       "      <td>12/20/2016</td>\n",
       "      <td>796.760010</td>\n",
       "      <td>798.650024</td>\n",
       "      <td>793.270020</td>\n",
       "      <td>796.419983</td>\n",
       "      <td>925100</td>\n",
       "    </tr>\n",
       "    <tr>\n",
       "      <th>2</th>\n",
       "      <td>12/21/2016</td>\n",
       "      <td>795.840027</td>\n",
       "      <td>796.676025</td>\n",
       "      <td>787.099976</td>\n",
       "      <td>794.559998</td>\n",
       "      <td>1208700</td>\n",
       "    </tr>\n",
       "    <tr>\n",
       "      <th>3</th>\n",
       "      <td>12/22/2016</td>\n",
       "      <td>792.359985</td>\n",
       "      <td>793.320007</td>\n",
       "      <td>788.580017</td>\n",
       "      <td>791.260010</td>\n",
       "      <td>969100</td>\n",
       "    </tr>\n",
       "    <tr>\n",
       "      <th>4</th>\n",
       "      <td>12/23/2016</td>\n",
       "      <td>790.900024</td>\n",
       "      <td>792.739990</td>\n",
       "      <td>787.280029</td>\n",
       "      <td>789.909973</td>\n",
       "      <td>623400</td>\n",
       "    </tr>\n",
       "  </tbody>\n",
       "</table>\n",
       "</div>"
      ],
      "text/plain": [
       "         Date        Open        High         Low       Close   Volume\n",
       "0  12/19/2016  790.219971  797.659973  786.270020  794.200012  1225900\n",
       "1  12/20/2016  796.760010  798.650024  793.270020  796.419983   925100\n",
       "2  12/21/2016  795.840027  796.676025  787.099976  794.559998  1208700\n",
       "3  12/22/2016  792.359985  793.320007  788.580017  791.260010   969100\n",
       "4  12/23/2016  790.900024  792.739990  787.280029  789.909973   623400"
      ]
     },
     "execution_count": 3,
     "metadata": {},
     "output_type": "execute_result"
    }
   ],
   "source": [
    "dataset.head() "
   ]
  },
  {
   "cell_type": "code",
   "execution_count": 4,
   "id": "ac2b8159",
   "metadata": {},
   "outputs": [
    {
     "data": {
      "text/html": [
       "<div>\n",
       "<style scoped>\n",
       "    .dataframe tbody tr th:only-of-type {\n",
       "        vertical-align: middle;\n",
       "    }\n",
       "\n",
       "    .dataframe tbody tr th {\n",
       "        vertical-align: top;\n",
       "    }\n",
       "\n",
       "    .dataframe thead th {\n",
       "        text-align: right;\n",
       "    }\n",
       "</style>\n",
       "<table border=\"1\" class=\"dataframe\">\n",
       "  <thead>\n",
       "    <tr style=\"text-align: right;\">\n",
       "      <th></th>\n",
       "      <th>Date</th>\n",
       "      <th>Open</th>\n",
       "      <th>High</th>\n",
       "      <th>Low</th>\n",
       "      <th>Close</th>\n",
       "      <th>Volume</th>\n",
       "    </tr>\n",
       "  </thead>\n",
       "  <tbody>\n",
       "    <tr>\n",
       "      <th>56</th>\n",
       "      <td>3/13/2017</td>\n",
       "      <td>844.000000</td>\n",
       "      <td>848.684998</td>\n",
       "      <td>843.250000</td>\n",
       "      <td>845.539978</td>\n",
       "      <td>1149500</td>\n",
       "    </tr>\n",
       "    <tr>\n",
       "      <th>57</th>\n",
       "      <td>3/14/2017</td>\n",
       "      <td>843.640015</td>\n",
       "      <td>847.239990</td>\n",
       "      <td>840.799988</td>\n",
       "      <td>845.619995</td>\n",
       "      <td>779900</td>\n",
       "    </tr>\n",
       "    <tr>\n",
       "      <th>58</th>\n",
       "      <td>3/15/2017</td>\n",
       "      <td>847.590027</td>\n",
       "      <td>848.630005</td>\n",
       "      <td>840.770020</td>\n",
       "      <td>847.200012</td>\n",
       "      <td>1379600</td>\n",
       "    </tr>\n",
       "    <tr>\n",
       "      <th>59</th>\n",
       "      <td>3/16/2017</td>\n",
       "      <td>849.030029</td>\n",
       "      <td>850.849976</td>\n",
       "      <td>846.130005</td>\n",
       "      <td>848.780029</td>\n",
       "      <td>970400</td>\n",
       "    </tr>\n",
       "    <tr>\n",
       "      <th>60</th>\n",
       "      <td>3/17/2017</td>\n",
       "      <td>851.609985</td>\n",
       "      <td>853.400024</td>\n",
       "      <td>847.109985</td>\n",
       "      <td>852.119995</td>\n",
       "      <td>1712300</td>\n",
       "    </tr>\n",
       "  </tbody>\n",
       "</table>\n",
       "</div>"
      ],
      "text/plain": [
       "         Date        Open        High         Low       Close   Volume\n",
       "56  3/13/2017  844.000000  848.684998  843.250000  845.539978  1149500\n",
       "57  3/14/2017  843.640015  847.239990  840.799988  845.619995   779900\n",
       "58  3/15/2017  847.590027  848.630005  840.770020  847.200012  1379600\n",
       "59  3/16/2017  849.030029  850.849976  846.130005  848.780029   970400\n",
       "60  3/17/2017  851.609985  853.400024  847.109985  852.119995  1712300"
      ]
     },
     "execution_count": 4,
     "metadata": {},
     "output_type": "execute_result"
    }
   ],
   "source": [
    "dataset.tail() "
   ]
  },
  {
   "cell_type": "code",
   "execution_count": 5,
   "id": "89dbe0a6",
   "metadata": {},
   "outputs": [
    {
     "data": {
      "text/plain": [
       "Index(['Date', 'Open', 'High', 'Low', 'Close', 'Volume'], dtype='object')"
      ]
     },
     "execution_count": 5,
     "metadata": {},
     "output_type": "execute_result"
    }
   ],
   "source": [
    "dataset.columns"
   ]
  },
  {
   "cell_type": "code",
   "execution_count": 6,
   "id": "a9166043",
   "metadata": {},
   "outputs": [
    {
     "data": {
      "text/plain": [
       "(61, 6)"
      ]
     },
     "execution_count": 6,
     "metadata": {},
     "output_type": "execute_result"
    }
   ],
   "source": [
    "dataset.shape"
   ]
  },
  {
   "cell_type": "code",
   "execution_count": 7,
   "id": "d08f2459",
   "metadata": {
    "scrolled": false
   },
   "outputs": [
    {
     "data": {
      "text/plain": [
       "Date       object\n",
       "Open      float64\n",
       "High      float64\n",
       "Low       float64\n",
       "Close     float64\n",
       "Volume      int64\n",
       "dtype: object"
      ]
     },
     "execution_count": 7,
     "metadata": {},
     "output_type": "execute_result"
    }
   ],
   "source": [
    "dataset.dtypes"
   ]
  },
  {
   "cell_type": "code",
   "execution_count": 8,
   "id": "cf2e6ff4",
   "metadata": {},
   "outputs": [
    {
     "data": {
      "text/plain": [
       "Date      0\n",
       "Open      0\n",
       "High      0\n",
       "Low       0\n",
       "Close     0\n",
       "Volume    0\n",
       "dtype: int64"
      ]
     },
     "execution_count": 8,
     "metadata": {},
     "output_type": "execute_result"
    }
   ],
   "source": [
    "dataset.isnull().sum()"
   ]
  },
  {
   "cell_type": "code",
   "execution_count": 9,
   "id": "e2406e3b",
   "metadata": {},
   "outputs": [
    {
     "name": "stdout",
     "output_type": "stream",
     "text": [
      "<class 'pandas.core.frame.DataFrame'>\n",
      "RangeIndex: 61 entries, 0 to 60\n",
      "Data columns (total 6 columns):\n",
      " #   Column  Non-Null Count  Dtype  \n",
      "---  ------  --------------  -----  \n",
      " 0   Date    61 non-null     object \n",
      " 1   Open    61 non-null     float64\n",
      " 2   High    61 non-null     float64\n",
      " 3   Low     61 non-null     float64\n",
      " 4   Close   61 non-null     float64\n",
      " 5   Volume  61 non-null     int64  \n",
      "dtypes: float64(4), int64(1), object(1)\n",
      "memory usage: 3.0+ KB\n"
     ]
    }
   ],
   "source": [
    "dataset.info()"
   ]
  },
  {
   "cell_type": "code",
   "execution_count": 10,
   "id": "dec59878",
   "metadata": {},
   "outputs": [
    {
     "data": {
      "text/html": [
       "<div>\n",
       "<style scoped>\n",
       "    .dataframe tbody tr th:only-of-type {\n",
       "        vertical-align: middle;\n",
       "    }\n",
       "\n",
       "    .dataframe tbody tr th {\n",
       "        vertical-align: top;\n",
       "    }\n",
       "\n",
       "    .dataframe thead th {\n",
       "        text-align: right;\n",
       "    }\n",
       "</style>\n",
       "<table border=\"1\" class=\"dataframe\">\n",
       "  <thead>\n",
       "    <tr style=\"text-align: right;\">\n",
       "      <th></th>\n",
       "      <th>count</th>\n",
       "      <th>mean</th>\n",
       "      <th>std</th>\n",
       "      <th>min</th>\n",
       "      <th>25%</th>\n",
       "      <th>50%</th>\n",
       "      <th>75%</th>\n",
       "      <th>max</th>\n",
       "    </tr>\n",
       "  </thead>\n",
       "  <tbody>\n",
       "    <tr>\n",
       "      <th>Open</th>\n",
       "      <td>61.0</td>\n",
       "      <td>8.140056e+02</td>\n",
       "      <td>18.784303</td>\n",
       "      <td>778.809998</td>\n",
       "      <td>7.996800e+02</td>\n",
       "      <td>8.095100e+02</td>\n",
       "      <td>8.286600e+02</td>\n",
       "      <td>8.516100e+02</td>\n",
       "    </tr>\n",
       "    <tr>\n",
       "      <th>High</th>\n",
       "      <td>61.0</td>\n",
       "      <td>8.177556e+02</td>\n",
       "      <td>18.556004</td>\n",
       "      <td>782.780029</td>\n",
       "      <td>8.027000e+02</td>\n",
       "      <td>8.152500e+02</td>\n",
       "      <td>8.332500e+02</td>\n",
       "      <td>8.534000e+02</td>\n",
       "    </tr>\n",
       "    <tr>\n",
       "      <th>Low</th>\n",
       "      <td>61.0</td>\n",
       "      <td>8.097341e+02</td>\n",
       "      <td>19.384799</td>\n",
       "      <td>770.409973</td>\n",
       "      <td>7.932700e+02</td>\n",
       "      <td>8.045400e+02</td>\n",
       "      <td>8.250600e+02</td>\n",
       "      <td>8.471100e+02</td>\n",
       "    </tr>\n",
       "    <tr>\n",
       "      <th>Close</th>\n",
       "      <td>61.0</td>\n",
       "      <td>8.145618e+02</td>\n",
       "      <td>19.265955</td>\n",
       "      <td>771.820007</td>\n",
       "      <td>8.013400e+02</td>\n",
       "      <td>8.095600e+02</td>\n",
       "      <td>8.306300e+02</td>\n",
       "      <td>8.521200e+02</td>\n",
       "    </tr>\n",
       "    <tr>\n",
       "      <th>Volume</th>\n",
       "      <td>61.0</td>\n",
       "      <td>1.361269e+06</td>\n",
       "      <td>498737.586492</td>\n",
       "      <td>623400.000000</td>\n",
       "      <td>1.057900e+06</td>\n",
       "      <td>1.247700e+06</td>\n",
       "      <td>1.494500e+06</td>\n",
       "      <td>3.228900e+06</td>\n",
       "    </tr>\n",
       "  </tbody>\n",
       "</table>\n",
       "</div>"
      ],
      "text/plain": [
       "        count          mean            std            min           25%  \\\n",
       "Open     61.0  8.140056e+02      18.784303     778.809998  7.996800e+02   \n",
       "High     61.0  8.177556e+02      18.556004     782.780029  8.027000e+02   \n",
       "Low      61.0  8.097341e+02      19.384799     770.409973  7.932700e+02   \n",
       "Close    61.0  8.145618e+02      19.265955     771.820007  8.013400e+02   \n",
       "Volume   61.0  1.361269e+06  498737.586492  623400.000000  1.057900e+06   \n",
       "\n",
       "                 50%           75%           max  \n",
       "Open    8.095100e+02  8.286600e+02  8.516100e+02  \n",
       "High    8.152500e+02  8.332500e+02  8.534000e+02  \n",
       "Low     8.045400e+02  8.250600e+02  8.471100e+02  \n",
       "Close   8.095600e+02  8.306300e+02  8.521200e+02  \n",
       "Volume  1.247700e+06  1.494500e+06  3.228900e+06  "
      ]
     },
     "execution_count": 10,
     "metadata": {},
     "output_type": "execute_result"
    }
   ],
   "source": [
    "dataset.describe().T"
   ]
  },
  {
   "cell_type": "code",
   "execution_count": 11,
   "id": "9b83eebb",
   "metadata": {},
   "outputs": [
    {
     "data": {
      "image/png": "[encoded data removed]",
      "text/plain": [
       "<Figure size 1200x600 with 1 Axes>"
      ]
     },
     "metadata": {},
     "output_type": "display_data"
    }
   ],
   "source": [
    "# Data Visualization\n",
    "plt.figure(figsize=(12, 6))\n",
    "plt.plot(dataset.index, dataset['Close'], label='Close Price')\n",
    "plt.title('Stock Price Over Time')\n",
    "plt.xlabel('Date')\n",
    "plt.ylabel('Normalized Price')\n",
    "plt.legend()\n",
    "plt.show()"
   ]
  },
  {
   "cell_type": "code",
   "execution_count": 12,
   "id": "d60878c1",
   "metadata": {},
   "outputs": [],
   "source": [
    "# Use 'Close' prices for prediction\n",
    "data = dataset[['Close']].values"
   ]
  },
  {
   "cell_type": "code",
   "execution_count": 13,
   "id": "09aaa75e",
   "metadata": {},
   "outputs": [],
   "source": [
    "# Normalize the data\n",
    "scaler = MinMaxScaler()\n",
    "data_scaled = scaler.fit_transform(data)"
   ]
  },
  {
   "cell_type": "code",
   "execution_count": 14,
   "id": "24b0fb41",
   "metadata": {},
   "outputs": [],
   "source": [
    "# Define a function to create sequences and labels\n",
    "def create_sequences(data, seq_length):\n",
    "    sequences = []\n",
    "    labels = []\n",
    "    for i in range(len(data) - seq_length):\n",
    "        seq = data[i:i+seq_length]\n",
    "        label = data[i+seq_length]\n",
    "        sequences.append(seq)\n",
    "        labels.append(label)\n",
    "    return np.array(sequences), np.array(labels)"
   ]
  },
  {
   "cell_type": "code",
   "execution_count": 15,
   "id": "7ce05b63",
   "metadata": {},
   "outputs": [],
   "source": [
    "# Define hyperparameters\n",
    "seq_length = 10  # Length of input sequence\n",
    "train_size = int(0.8 * len(data_scaled))\n",
    "test_size = len(data_scaled) - train_size"
   ]
  },
  {
   "cell_type": "code",
   "execution_count": 16,
   "id": "aaafa053",
   "metadata": {},
   "outputs": [],
   "source": [
    "# Create sequences and labels\n",
    "X_train, y_train = create_sequences(data_scaled[:train_size], seq_length)\n",
    "X_test, y_test = create_sequences(data_scaled[train_size:], seq_length)"
   ]
  },
  {
   "cell_type": "code",
   "execution_count": 17,
   "id": "0ec31f9d",
   "metadata": {},
   "outputs": [],
   "source": [
    "# Build the LSTM model\n",
    "model = Sequential()\n",
    "model.add(LSTM(50, activation='relu', input_shape=(seq_length, 1)))\n",
    "model.add(Dense(1))\n",
    "model.compile(optimizer='adam', loss='mean_squared_error')"
   ]
  },
  {
   "cell_type": "code",
   "execution_count": 18,
   "id": "17933ae4",
   "metadata": {},
   "outputs": [
    {
     "name": "stdout",
     "output_type": "stream",
     "text": [
      "Epoch 1/50\n",
      "2/2 [==============================] - 1s 9ms/step - loss: 0.2467\n",
      "Epoch 2/50\n",
      "2/2 [==============================] - 0s 6ms/step - loss: 0.2212\n",
      "Epoch 3/50\n",
      "2/2 [==============================] - 0s 6ms/step - loss: 0.1972\n",
      "Epoch 4/50\n",
      "2/2 [==============================] - 0s 6ms/step - loss: 0.1744\n",
      "Epoch 5/50\n",
      "2/2 [==============================] - 0s 7ms/step - loss: 0.1522\n",
      "Epoch 6/50\n",
      "2/2 [==============================] - 0s 5ms/step - loss: 0.1303\n",
      "Epoch 7/50\n",
      "2/2 [==============================] - 0s 6ms/step - loss: 0.1102\n",
      "Epoch 8/50\n",
      "2/2 [==============================] - 0s 8ms/step - loss: 0.0907\n",
      "Epoch 9/50\n",
      "2/2 [==============================] - 0s 7ms/step - loss: 0.0729\n",
      "Epoch 10/50\n",
      "2/2 [==============================] - 0s 6ms/step - loss: 0.0554\n",
      "Epoch 11/50\n",
      "2/2 [==============================] - 0s 6ms/step - loss: 0.0410\n",
      "Epoch 12/50\n",
      "2/2 [==============================] - 0s 6ms/step - loss: 0.0289\n",
      "Epoch 13/50\n",
      "2/2 [==============================] - 0s 7ms/step - loss: 0.0202\n",
      "Epoch 14/50\n",
      "2/2 [==============================] - 0s 7ms/step - loss: 0.0180\n",
      "Epoch 15/50\n",
      "2/2 [==============================] - 0s 6ms/step - loss: 0.0205\n",
      "Epoch 16/50\n",
      "2/2 [==============================] - 0s 6ms/step - loss: 0.0249\n",
      "Epoch 17/50\n",
      "2/2 [==============================] - 0s 6ms/step - loss: 0.0276\n",
      "Epoch 18/50\n",
      "2/2 [==============================] - 0s 6ms/step - loss: 0.0264\n",
      "Epoch 19/50\n",
      "2/2 [==============================] - 0s 6ms/step - loss: 0.0230\n",
      "Epoch 20/50\n",
      "2/2 [==============================] - 0s 6ms/step - loss: 0.0196\n",
      "Epoch 21/50\n",
      "2/2 [==============================] - 0s 5ms/step - loss: 0.0174\n",
      "Epoch 22/50\n",
      "2/2 [==============================] - 0s 5ms/step - loss: 0.0172\n",
      "Epoch 23/50\n",
      "2/2 [==============================] - 0s 6ms/step - loss: 0.0174\n",
      "Epoch 24/50\n",
      "2/2 [==============================] - 0s 4ms/step - loss: 0.0183\n",
      "Epoch 25/50\n",
      "2/2 [==============================] - 0s 10ms/step - loss: 0.0189\n",
      "Epoch 26/50\n",
      "2/2 [==============================] - 0s 6ms/step - loss: 0.0188\n",
      "Epoch 27/50\n",
      "2/2 [==============================] - 0s 6ms/step - loss: 0.0183\n",
      "Epoch 28/50\n",
      "2/2 [==============================] - 0s 7ms/step - loss: 0.0176\n",
      "Epoch 29/50\n",
      "2/2 [==============================] - 0s 6ms/step - loss: 0.0169\n",
      "Epoch 30/50\n",
      "2/2 [==============================] - 0s 5ms/step - loss: 0.0165\n",
      "Epoch 31/50\n",
      "2/2 [==============================] - 0s 6ms/step - loss: 0.0163\n",
      "Epoch 32/50\n",
      "2/2 [==============================] - 0s 5ms/step - loss: 0.0163\n",
      "Epoch 33/50\n",
      "2/2 [==============================] - 0s 6ms/step - loss: 0.0166\n",
      "Epoch 34/50\n",
      "2/2 [==============================] - 0s 5ms/step - loss: 0.0167\n",
      "Epoch 35/50\n",
      "2/2 [==============================] - 0s 0s/step - loss: 0.0167\n",
      "Epoch 36/50\n",
      "2/2 [==============================] - 0s 6ms/step - loss: 0.0165\n",
      "Epoch 37/50\n",
      "2/2 [==============================] - 0s 6ms/step - loss: 0.0161\n",
      "Epoch 38/50\n",
      "2/2 [==============================] - 0s 6ms/step - loss: 0.0160\n",
      "Epoch 39/50\n",
      "2/2 [==============================] - 0s 6ms/step - loss: 0.0160\n",
      "Epoch 40/50\n",
      "2/2 [==============================] - 0s 6ms/step - loss: 0.0160\n",
      "Epoch 41/50\n",
      "2/2 [==============================] - 0s 6ms/step - loss: 0.0160\n",
      "Epoch 42/50\n",
      "2/2 [==============================] - 0s 6ms/step - loss: 0.0159\n",
      "Epoch 43/50\n",
      "2/2 [==============================] - 0s 6ms/step - loss: 0.0159\n",
      "Epoch 44/50\n",
      "2/2 [==============================] - 0s 8ms/step - loss: 0.0157\n",
      "Epoch 45/50\n",
      "2/2 [==============================] - 0s 6ms/step - loss: 0.0156\n",
      "Epoch 46/50\n",
      "2/2 [==============================] - 0s 10ms/step - loss: 0.0155\n",
      "Epoch 47/50\n",
      "2/2 [==============================] - 0s 6ms/step - loss: 0.0153\n",
      "Epoch 48/50\n",
      "2/2 [==============================] - 0s 6ms/step - loss: 0.0154\n",
      "Epoch 49/50\n",
      "2/2 [==============================] - 0s 7ms/step - loss: 0.0154\n",
      "Epoch 50/50\n",
      "2/2 [==============================] - 0s 6ms/step - loss: 0.0154\n"
     ]
    },
    {
     "data": {
      "text/plain": [
       "<keras.src.callbacks.History at 0x283acc605b0>"
      ]
     },
     "execution_count": 18,
     "metadata": {},
     "output_type": "execute_result"
    }
   ],
   "source": [
    "# Train the model\n",
    "model.fit(X_train, y_train, epochs=50, batch_size=32, verbose=1)"
   ]
  },
  {
   "cell_type": "code",
   "execution_count": 19,
   "id": "0ef2e130",
   "metadata": {},
   "outputs": [
    {
     "name": "stdout",
     "output_type": "stream",
     "text": [
      "2/2 [==============================] - 0s 3ms/step\n",
      "1/1 [==============================] - 0s 20ms/step\n"
     ]
    }
   ],
   "source": [
    "# Make predictions\n",
    "train_predictions = model.predict(X_train)\n",
    "test_predictions = model.predict(X_test)"
   ]
  },
  {
   "cell_type": "code",
   "execution_count": 20,
   "id": "73f1a1c4",
   "metadata": {},
   "outputs": [],
   "source": [
    "# Inverse transform predictions to get actual prices\n",
    "train_predictions = scaler.inverse_transform(train_predictions)\n",
    "test_predictions = scaler.inverse_transform(test_predictions)"
   ]
  },
  {
   "cell_type": "code",
   "execution_count": 21,
   "id": "d3bcd542",
   "metadata": {},
   "outputs": [],
   "source": [
    "# Calculate root mean squared error\n",
    "train_rmse = np.sqrt(mean_squared_error(data[seq_length:train_size], train_predictions))\n",
    "test_rmse = np.sqrt(mean_squared_error(data[train_size+seq_length:], test_predictions))"
   ]
  },
  {
   "cell_type": "code",
   "execution_count": 22,
   "id": "c450f4eb",
   "metadata": {},
   "outputs": [
    {
     "name": "stdout",
     "output_type": "stream",
     "text": [
      "Train RMSE: 9.926740159329091\n",
      "Test RMSE: 11.015675935003276\n"
     ]
    }
   ],
   "source": [
    "print(f\"Train RMSE: {train_rmse}\")\n",
    "print(f\"Test RMSE: {test_rmse}\")"
   ]
  },
  {
   "cell_type": "code",
   "execution_count": 23,
   "id": "85fd5b92",
   "metadata": {},
   "outputs": [
    {
     "name": "stdout",
     "output_type": "stream",
     "text": [
      "Actula Values: [[847.200012]\n",
      " [848.780029]\n",
      " [852.119995]]\n",
      "Predicted Values: [[837.0856 ]\n",
      " [838.2725 ]\n",
      " [839.81854]]\n"
     ]
    }
   ],
   "source": [
    "print(\"Actual Values:\", scaler.inverse_transform(y_test))\n",
    "print(\"Predicted Values:\", test_predictions)"
   ]
  }
 ],
 "metadata": {
  "kernelspec": {
   "display_name": "Python 3 (ipykernel)",
   "language": "python",
   "name": "python3"
  },
  "language_info": {
   "codemirror_mode": {
    "name": "ipython",
    "version": 3
   },
   "file_extension": ".py",
   "mimetype": "text/x-python",
   "name": "python",
   "nbconvert_exporter": "python",
   "pygments_lexer": "ipython3",
   "version": "3.9.13"
  }
 },
 "nbformat": 4,
 "nbformat_minor": 5
}
